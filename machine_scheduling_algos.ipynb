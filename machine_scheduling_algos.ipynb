{
 "cells": [
  {
   "cell_type": "code",
   "execution_count": 1,
   "id": "bea5b918",
   "metadata": {},
   "outputs": [],
   "source": [
    "import numpy as np\n",
    "import pandas as pd"
   ]
  },
  {
   "cell_type": "markdown",
   "id": "94ff7e51",
   "metadata": {},
   "source": [
    "# Tardy Time Scheduling"
   ]
  },
  {
   "cell_type": "code",
   "execution_count": 80,
   "id": "91b5b8e5",
   "metadata": {},
   "outputs": [],
   "source": [
    "num_machines = 3\n",
    "num_jobs = 3\n",
    "num_operations = 3\n",
    "jom_mat = np.array([[[1,7],[3,8],[2,10]],[[3,6],[1,4],[2,12]],[[2,8],[1,8],[3,7]]])\n",
    "machine_mat = np.array([[1,2,1,2],[1,2,1,2],[1,2,1,2]])\n",
    "minimization_criteria = 0\n",
    "due_dates = np.array([26,26,17])\n",
    "arrival_dates = [0,0,0]\n",
    "penalty_cost = [1,1,1]\n",
    "jom_mat = np.array(jom_mat)\n",
    "machine_mat = np.array(machine_mat)\n",
    "due_dates = np.array(due_dates)\n",
    "arrival_dates = np.array(arrival_dates)"
   ]
  },
  {
   "cell_type": "code",
   "execution_count": 81,
   "id": "6d6f41ea",
   "metadata": {},
   "outputs": [],
   "source": [
    "for i in range(num_jobs):\n",
    "    for j in range(num_operations):\n",
    "            jom_mat[i][j][0]-=1"
   ]
  },
  {
   "cell_type": "code",
   "execution_count": 82,
   "id": "0143eafa",
   "metadata": {},
   "outputs": [],
   "source": [
    "idle_times = [0]*(num_machines)\n",
    "running_energy_costs = [0]*num_machines\n",
    "waiting_energy_costs = [0]*num_machines"
   ]
  },
  {
   "cell_type": "code",
   "execution_count": 83,
   "id": "82936399",
   "metadata": {},
   "outputs": [
    {
     "name": "stdout",
     "output_type": "stream",
     "text": [
      "[[1, 0, 0, 6], [0, 0, 0, 7], [2, 0, 0, 8], [1, 1, 7, 11], [0, 1, 7, 15], [2, 1, 11, 19], [1, 2, 11, 23], [0, 2, 23, 33], [2, 2, 19, 26]]\n"
     ]
    }
   ],
   "source": [
    "indices = np.zeros(num_jobs)\n",
    "running_indices = num_jobs\n",
    "prev_finish_time = arrival_dates\n",
    "relative_due_dates = due_dates - min(due_dates)\n",
    "scheduled_jobs = []\n",
    "machine_free_time = []\n",
    "\n",
    "for i in range(num_machines):\n",
    "    machine_free_time.append([0]*machine_mat[i][0])\n",
    "\n",
    "while running_indices:\n",
    "    running_indices = 0\n",
    "    next_index = 0\n",
    "    least_time = float('inf')\n",
    "    for i in range(num_jobs):\n",
    "        if (indices[i]<num_operations and jom_mat[i][int(indices[i])][0]>=0):\n",
    "            running_indices += 1\n",
    "            new_tardy_time = prev_finish_time[i]+jom_mat[i][int(indices[i])][1]\n",
    "            if (new_tardy_time<least_time):\n",
    "                least_time = new_tardy_time\n",
    "                next_index = i\n",
    "            elif (new_tardy_time==least_time and jom_mat[i][int(indices[i])][1]<jom_mat[i][int(indices[next_index])][1]):\n",
    "                next_index = i\n",
    "            \n",
    "    if running_indices ==0:\n",
    "        break\n",
    "    new_finish_time = jom_mat[next_index][int(indices[next_index])][1] + max(machine_free_time[jom_mat[next_index][int(indices[next_index])][0]][0],prev_finish_time[next_index])\n",
    "    prev_time = max(machine_free_time[jom_mat[next_index][int(indices[next_index])][0]][0],prev_finish_time[next_index])\n",
    "    scheduled_jobs.append([next_index,int(indices[next_index]),prev_time,new_finish_time])\n",
    "    \n",
    "    idle_times[jom_mat[next_index][int(indices[next_index])][0]] += max(0,prev_finish_time[next_index] - machine_free_time[jom_mat[next_index][int(indices[next_index])][0]][0])\n",
    "    running_energy_costs[jom_mat[next_index][int(indices[next_index])][0]] += jom_mat[next_index][int(indices[next_index])][1]*machine_mat[jom_mat[next_index][int(indices[next_index])][0]][1]\n",
    "    waiting_energy_costs[jom_mat[next_index][int(indices[next_index])][0]] = idle_times[jom_mat[next_index][int(indices[next_index])][0]]*machine_mat[jom_mat[next_index][int(indices[next_index])][0]][3]\n",
    "    prev_finish_time[next_index] = new_finish_time\n",
    "    machine_free_time[jom_mat[next_index][int(indices[next_index])][0]][0] = new_finish_time\n",
    "    machine_free_time[jom_mat[next_index][int(indices[next_index])][0]] = sorted(machine_free_time[jom_mat[next_index][int(indices[next_index])][0]])\n",
    "    indices[next_index]+=1\n",
    "\n",
    "print(scheduled_jobs)"
   ]
  },
  {
   "cell_type": "code",
   "execution_count": 84,
   "id": "861b401c",
   "metadata": {},
   "outputs": [
    {
     "data": {
      "image/png": "[encoded data removed]",
      "text/plain": [
       "<Figure size 1000x600 with 1 Axes>"
      ]
     },
     "metadata": {},
     "output_type": "display_data"
    }
   ],
   "source": [
    "import matplotlib.pyplot as plt\n",
    "\n",
    "max_end_time = max(job[3] for job in scheduled_jobs)\n",
    "\n",
    "colors = plt.cm.tab10(np.linspace(0, 1, num_jobs*num_operations))\n",
    "\n",
    "plt.figure(figsize=(10, 6))\n",
    "\n",
    "for i, job in enumerate(scheduled_jobs):\n",
    "    job_index = job[0]\n",
    "    operation_index = job[1]\n",
    "    machine_index = jom_mat[job_index][operation_index][0]\n",
    "    color = colors[i]\n",
    "    plt.barh(job_index, job[3] - job[2], left=job[2], color=color, alpha=0.6)\n",
    "    plt.text(job[2] + (job[3] - job[2])/2, job[0], machine_index+1, ha='center', va='center')\n",
    "\n",
    "plt.xlabel('Time')\n",
    "plt.ylabel('jobs')\n",
    "plt.title('Gantt Chart for Scheduled Tasks')\n",
    "plt.yticks(range(num_jobs), [f'Job {i+1}' for i in range(num_jobs)])\n",
    "plt.xticks(range(0, max_end_time+5, 2))\n",
    "plt.show()"
   ]
  },
  {
   "cell_type": "code",
   "execution_count": 79,
   "id": "dd02b0e6",
   "metadata": {},
   "outputs": [
    {
     "name": "stdout",
     "output_type": "stream",
     "text": [
      "Idle times : [7, 2, 2]\n",
      "running_energy_costs : [38, 60, 42]\n",
      "waiting_energy_costs : [14, 4, 4]\n"
     ]
    }
   ],
   "source": [
    "print(\"Idle times :\",idle_times)\n",
    "print(\"running_energy_costs :\",running_energy_costs)\n",
    "print(\"waiting_energy_costs :\",waiting_energy_costs)"
   ]
  },
  {
   "cell_type": "code",
   "execution_count": 93,
   "id": "6787b98f",
   "metadata": {},
   "outputs": [
    {
     "name": "stdout",
     "output_type": "stream",
     "text": [
      "Total Energy Costs : [39, 67, 53]\n"
     ]
    }
   ],
   "source": [
    "total_energy_costs = [0]*num_jobs\n",
    "total_costs = 0\n",
    "for i in range(num_machines):\n",
    "    total_energy_costs[i] += machine_mat[i][2]+running_energy_costs[i]+waiting_energy_costs[i]\n",
    "    total_costs+=machine_mat[i][2]+running_energy_costs[i]+waiting_energy_costs[i]\n",
    "print(\"Total Energy Costs :\",total_energy_costs)"
   ]
  },
  {
   "cell_type": "code",
   "execution_count": 94,
   "id": "aac064a3",
   "metadata": {},
   "outputs": [],
   "source": [
    "penalty_costs = 0\n",
    "for i in range(num_jobs):\n",
    "    penalty_costs += max(0,prev_finish_time[i]-due_dates[i])*penalty_cost[i]\n",
    "total_costs += penalty_costs"
   ]
  },
  {
   "cell_type": "code",
   "execution_count": 95,
   "id": "d7aa6d36",
   "metadata": {},
   "outputs": [
    {
     "name": "stdout",
     "output_type": "stream",
     "text": [
      "Total Penalty Costs : 16\n",
      "Total Costs : 175\n"
     ]
    }
   ],
   "source": [
    "print(\"Total Penalty Costs :\",penalty_costs)\n",
    "print(\"Total Costs :\",total_costs)"
   ]
  },
  {
   "cell_type": "markdown",
   "id": "61f04893",
   "metadata": {},
   "source": [
    "# Running energy consumption"
   ]
  },
  {
   "cell_type": "code",
   "execution_count": 52,
   "id": "842e35cf",
   "metadata": {},
   "outputs": [],
   "source": [
    "num_machines = 2\n",
    "num_jobs = 3\n",
    "num_operations = 1\n",
    "jom_mat = np.array([[[0,8]],[[0,2]],[[0,10]]])\n",
    "machine_mat = np.array([[1,3,1,2],[1,5,1,2]])\n",
    "minimization_criteria = 1\n",
    "due_dates = np.array([26,26,17])\n",
    "arrival_dates = [5,1,5]\n",
    "warmup_times = [2,1]\n",
    "penalty_cost = [1,1,1]\n",
    "jom_mat = np.array(jom_mat)\n",
    "machine_mat = np.array(machine_mat)\n",
    "due_dates = np.array(due_dates)\n",
    "arrival_dates = np.array(arrival_dates)         "
   ]
  },
  {
   "cell_type": "code",
   "execution_count": 53,
   "id": "58aec203",
   "metadata": {},
   "outputs": [],
   "source": [
    "jom_mat = np.array([[[0,8]],[[0,2]],[[0,10]]])\n",
    "\n",
    "sorted_indices = np.argsort(arrival_dates)\n",
    "jom_mat = jom_mat[sorted_indices]\n",
    "arrival_dates = sorted(arrival_dates)"
   ]
  },
  {
   "cell_type": "code",
   "execution_count": 54,
   "id": "30f1eb9e",
   "metadata": {},
   "outputs": [
    {
     "data": {
      "text/plain": [
       "array([[[ 0,  2]],\n",
       "\n",
       "       [[ 0,  8]],\n",
       "\n",
       "       [[ 0, 10]]])"
      ]
     },
     "execution_count": 54,
     "metadata": {},
     "output_type": "execute_result"
    }
   ],
   "source": [
    "jom_mat"
   ]
  },
  {
   "cell_type": "code",
   "execution_count": 55,
   "id": "3a474546",
   "metadata": {},
   "outputs": [],
   "source": [
    "           \n",
    "idle_times = [0]*(num_machines)\n",
    "running_energy_costs = [0]*num_machines\n",
    "waiting_energy_costs = [0]*num_machines\n",
    "warmup_energy_costs = [0]*num_machines\n",
    "total_energy_costs = [0]*num_machines"
   ]
  },
  {
   "cell_type": "code",
   "execution_count": 56,
   "id": "ac04cee1",
   "metadata": {},
   "outputs": [
    {
     "name": "stdout",
     "output_type": "stream",
     "text": [
      "1 1\n",
      "5 5\n",
      "5 5\n"
     ]
    }
   ],
   "source": [
    "\n",
    "prev_finish_time = [0]*num_jobs\n",
    "scheduled_jobs = []\n",
    "machine_free_time = [0]*num_machines\n",
    "    \n",
    "for i in range(num_jobs):\n",
    "    machine_idx = 0\n",
    "    least_time = float('inf')\n",
    "    machine_run_cost = float('inf')\n",
    "    for j in range(num_machines):\n",
    "        if (machine_free_time[j]<=arrival_dates[i] and least_time!=arrival_dates[i]):\n",
    "            machine_idx=j\n",
    "            least_time = arrival_dates[i]\n",
    "            machine_run_cost = machine_mat[j][1]\n",
    "        elif (machine_free_time[j]<=arrival_dates[i] and machine_mat[j][1]<machine_run_cost):\n",
    "            machine_idx=j\n",
    "            least_time = arrival_dates[i]\n",
    "            machine_run_cost = machine_mat[j][1]\n",
    "        elif (machine_free_time[j]<least_time and machine_free_time[j]>arrival_dates[i]):\n",
    "            machine_idx=j\n",
    "            least_time = machine_free_time[j]\n",
    "            machine_run_cost = machine_mat[j][1]\n",
    "        elif (machine_free_time[j]==least_time and machine_mat[j][1]<machine_run_cost and machine_free_time[j]>arrival_dates[i]):\n",
    "            machine_idx=j\n",
    "            least_time = machine_free_time[j]\n",
    "            machine_run_cost = machine_mat[j][1]\n",
    "    \n",
    "    job_start_time = max(arrival_dates[i],machine_free_time[machine_idx])\n",
    "    print(job_start_time,arrival_dates[i])\n",
    "    job_end_time = job_start_time + warmup_times[machine_idx] + jom_mat[i][0][1]\n",
    "    waiting_energy_costs[machine_idx] += max(0,job_start_time - machine_free_time[machine_idx])*machine_mat[machine_idx][2]\n",
    "    warmup_energy_costs[machine_idx] += warmup_times[machine_idx]*machine_mat[machine_idx][3]\n",
    "    running_energy_costs[machine_idx] += jom_mat[i][0][1]*machine_mat[machine_idx][1]\n",
    "    total_energy_costs[machine_idx] =  waiting_energy_costs[machine_idx] + warmup_energy_costs[machine_idx] + running_energy_costs[machine_idx]\n",
    "    idle_times[machine_idx] += max(0,job_start_time - machine_free_time[machine_idx])\n",
    "    machine_free_time[machine_idx] = job_end_time\n",
    "    scheduled_jobs.append([i,0,job_start_time+warmup_times[machine_idx],job_end_time,machine_idx+1])\n",
    "    "
   ]
  },
  {
   "cell_type": "code",
   "execution_count": 57,
   "id": "ae73ca3b",
   "metadata": {},
   "outputs": [
    {
     "data": {
      "text/plain": [
       "[[0, 0, 3, 5, 1], [1, 0, 7, 15, 1], [2, 0, 6, 16, 2]]"
      ]
     },
     "execution_count": 57,
     "metadata": {},
     "output_type": "execute_result"
    }
   ],
   "source": [
    "scheduled_jobs"
   ]
  },
  {
   "cell_type": "code",
   "execution_count": 58,
   "id": "6fa2ead4",
   "metadata": {},
   "outputs": [
    {
     "data": {
      "image/png": "[encoded data removed]",
      "text/plain": [
       "<Figure size 1000x600 with 1 Axes>"
      ]
     },
     "metadata": {},
     "output_type": "display_data"
    }
   ],
   "source": [
    "import matplotlib.pyplot as plt\n",
    "\n",
    "max_end_time = max(job[3] for job in scheduled_jobs)\n",
    "\n",
    "colors = plt.cm.tab10(np.linspace(0, 1, num_jobs*num_operations))\n",
    "\n",
    "plt.figure(figsize=(10, 6))\n",
    "\n",
    "for i, job in enumerate(scheduled_jobs):\n",
    "    job_index = job[0]\n",
    "    operation_index = job[1]\n",
    "    machine_index = jom_mat[job_index][operation_index][0]\n",
    "    color = colors[i]\n",
    "    plt.barh(job_index, job[3] - job[2], left=job[2], color=color, alpha=0.6)\n",
    "    plt.text(job[2] + (job[3] - job[2])/2, job[0], job[4], ha='center', va='center')\n",
    "\n",
    "plt.xlabel('Time')\n",
    "plt.ylabel('jobs')\n",
    "plt.title('Gantt Chart for Scheduled Tasks')\n",
    "plt.yticks(range(num_jobs), [f'Job {i+1}' for i in range(num_jobs)])\n",
    "plt.xticks(range(0, max_end_time+5, 2))\n",
    "plt.show()"
   ]
  },
  {
   "cell_type": "code",
   "execution_count": 59,
   "id": "49cfb8e9",
   "metadata": {},
   "outputs": [
    {
     "name": "stdout",
     "output_type": "stream",
     "text": [
      "Idle times : [1, 5]\n",
      "running_energy_costs : [30, 50]\n",
      "waiting_energy_costs : [1, 5]\n",
      "Total Energy Costs : [32, 56, 0]\n",
      "Total Penalty Costs : 0\n",
      "Total Costs : 88\n"
     ]
    }
   ],
   "source": [
    "print(\"Idle times :\",idle_times)\n",
    "print(\"running_energy_costs :\",running_energy_costs)\n",
    "print(\"waiting_energy_costs :\",waiting_energy_costs)\n",
    "total_energy_costs = [0]*num_jobs\n",
    "total_costs = 0\n",
    "for i in range(num_machines):\n",
    "    total_energy_costs[i] += machine_mat[i][2]+running_energy_costs[i]+waiting_energy_costs[i]\n",
    "    total_costs+=machine_mat[i][2]+running_energy_costs[i]+waiting_energy_costs[i]\n",
    "print(\"Total Energy Costs :\",total_energy_costs)\n",
    "penalty_costs = 0\n",
    "for i in range(num_jobs):\n",
    "    penalty_costs += max(0,prev_finish_time[i]-due_dates[i])*penalty_cost[i]\n",
    "total_costs += penalty_costs\n",
    "print(\"Total Penalty Costs :\",penalty_costs)\n",
    "print(\"Total Costs :\",total_costs)"
   ]
  },
  {
   "cell_type": "markdown",
   "id": "f68fcc4c",
   "metadata": {},
   "source": [
    "# Warmup energy consumption"
   ]
  },
  {
   "cell_type": "code",
   "execution_count": 60,
   "id": "aaab9762",
   "metadata": {},
   "outputs": [],
   "source": [
    "num_machines = 2\n",
    "num_jobs = 3\n",
    "num_operations = 1\n",
    "jom_mat = np.array([[[0,8]],[[0,2]],[[0,10]]])\n",
    "machine_mat = np.array([[1,1,5,2],[1,1,3,2]])\n",
    "minimization_criteria = 1\n",
    "due_dates = np.array([26,26,17])\n",
    "arrival_dates = [5,1,5]\n",
    "warmup_times = [2,1]\n",
    "penalty_cost = [1,1,1]\n",
    "jom_mat = np.array(jom_mat)\n",
    "machine_mat = np.array(machine_mat)\n",
    "due_dates = np.array(due_dates)\n",
    "arrival_dates = np.array(arrival_dates)         "
   ]
  },
  {
   "cell_type": "code",
   "execution_count": 61,
   "id": "e06b7d23",
   "metadata": {},
   "outputs": [],
   "source": [
    "jom_mat = np.array([[[0,8]],[[0,2]],[[0,10]]])\n",
    "\n",
    "sorted_indices = np.argsort(arrival_dates)\n",
    "jom_mat = jom_mat[sorted_indices]\n",
    "arrival_dates = sorted(arrival_dates)\n"
   ]
  },
  {
   "cell_type": "code",
   "execution_count": 62,
   "id": "22400de5",
   "metadata": {},
   "outputs": [],
   "source": [
    "           \n",
    "idle_times = [0]*(num_machines)\n",
    "running_energy_costs = [0]*num_machines\n",
    "waiting_energy_costs = [0]*num_machines\n",
    "warmup_energy_costs = [0]*num_machines\n",
    "total_energy_costs = [0]*num_machines"
   ]
  },
  {
   "cell_type": "code",
   "execution_count": 63,
   "id": "085ec60a",
   "metadata": {},
   "outputs": [
    {
     "name": "stdout",
     "output_type": "stream",
     "text": [
      "1 1\n",
      "5 5\n",
      "5 5\n"
     ]
    }
   ],
   "source": [
    "\n",
    "prev_finish_time = [0]*num_jobs\n",
    "scheduled_jobs = []\n",
    "machine_free_time = [0]*num_machines\n",
    "    \n",
    "for i in range(num_jobs):\n",
    "    machine_idx = 0\n",
    "    least_time = float('inf')\n",
    "    machine_run_cost = float('inf')\n",
    "    for j in range(num_machines):\n",
    "        if (machine_free_time[j]<=arrival_dates[i] and least_time!=arrival_dates[i]):\n",
    "            machine_idx=j\n",
    "            least_time = arrival_dates[i]\n",
    "            machine_run_cost = machine_mat[j][2]\n",
    "        elif (machine_free_time[j]<=arrival_dates[i] and machine_mat[j][2]<machine_run_cost):\n",
    "            machine_idx=j\n",
    "            least_time = arrival_dates[i]\n",
    "            machine_run_cost = machine_mat[j][2]\n",
    "        elif (machine_free_time[j]<least_time and machine_free_time[j]>arrival_dates[i]):\n",
    "            machine_idx=j\n",
    "            least_time = machine_free_time[j]\n",
    "            machine_run_cost = machine_mat[j][2]\n",
    "        elif (machine_free_time[j]==least_time and machine_mat[j][2]<machine_run_cost and machine_free_time[j]>arrival_dates[i]):\n",
    "            machine_idx=j\n",
    "            least_time = machine_free_time[j]\n",
    "            machine_run_cost = machine_mat[j][2]\n",
    "    \n",
    "    job_start_time = max(arrival_dates[i],machine_free_time[machine_idx])\n",
    "    print(job_start_time,arrival_dates[i])\n",
    "    job_end_time = job_start_time + warmup_times[machine_idx] + jom_mat[i][0][1]\n",
    "    waiting_energy_costs[machine_idx] += max(0,job_start_time - machine_free_time[machine_idx])*machine_mat[machine_idx][2]\n",
    "    warmup_energy_costs[machine_idx] += warmup_times[machine_idx]*machine_mat[machine_idx][3]\n",
    "    running_energy_costs[machine_idx] += jom_mat[i][0][1]*machine_mat[machine_idx][1]\n",
    "    total_energy_costs[machine_idx] =  waiting_energy_costs[machine_idx] + warmup_energy_costs[machine_idx] + running_energy_costs[machine_idx]\n",
    "    idle_times[machine_idx] += max(0,job_start_time - machine_free_time[machine_idx])\n",
    "    machine_free_time[machine_idx] = job_end_time\n",
    "    scheduled_jobs.append([i,0,job_start_time+warmup_times[machine_idx],job_end_time,machine_idx+1])\n",
    "    "
   ]
  },
  {
   "cell_type": "code",
   "execution_count": 64,
   "id": "f66544dc",
   "metadata": {},
   "outputs": [
    {
     "data": {
      "text/plain": [
       "[[0, 0, 2, 4, 2], [1, 0, 6, 14, 2], [2, 0, 7, 17, 1]]"
      ]
     },
     "execution_count": 64,
     "metadata": {},
     "output_type": "execute_result"
    }
   ],
   "source": [
    "scheduled_jobs"
   ]
  },
  {
   "cell_type": "code",
   "execution_count": 65,
   "id": "20acca7f",
   "metadata": {},
   "outputs": [
    {
     "data": {
      "image/png": "[encoded data removed]",
      "text/plain": [
       "<Figure size 1000x600 with 1 Axes>"
      ]
     },
     "metadata": {},
     "output_type": "display_data"
    }
   ],
   "source": [
    "import matplotlib.pyplot as plt\n",
    "\n",
    "max_end_time = max(job[3] for job in scheduled_jobs)\n",
    "\n",
    "colors = plt.cm.tab10(np.linspace(0, 1, num_jobs*num_operations))\n",
    "\n",
    "plt.figure(figsize=(10, 6))\n",
    "\n",
    "for i, job in enumerate(scheduled_jobs):\n",
    "    job_index = job[0]\n",
    "    operation_index = job[1]\n",
    "    machine_index = jom_mat[job_index][operation_index][0]\n",
    "    color = colors[i]\n",
    "    plt.barh(job_index, job[3] - job[2], left=job[2], color=color, alpha=0.6)\n",
    "    plt.text(job[2] + (job[3] - job[2])/2, job[0], job[4], ha='center', va='center')\n",
    "\n",
    "plt.xlabel('Time')\n",
    "plt.ylabel('jobs')\n",
    "plt.title('Gantt Chart for Scheduled Tasks')\n",
    "plt.yticks(range(num_jobs), [f'Job {i+1}' for i in range(num_jobs)])\n",
    "plt.xticks(range(0, max_end_time+5, 2))\n",
    "plt.show()"
   ]
  },
  {
   "cell_type": "code",
   "execution_count": 66,
   "id": "eba653b0",
   "metadata": {},
   "outputs": [
    {
     "name": "stdout",
     "output_type": "stream",
     "text": [
      "Idle times : [5, 2]\n",
      "running_energy_costs : [10, 10]\n",
      "waiting_energy_costs : [25, 6]\n",
      "Total Energy Costs : [40, 19, 0]\n",
      "Total Penalty Costs : 0\n",
      "Total Costs : 59\n"
     ]
    }
   ],
   "source": [
    "print(\"Idle times :\",idle_times)\n",
    "print(\"running_energy_costs :\",running_energy_costs)\n",
    "print(\"waiting_energy_costs :\",waiting_energy_costs)\n",
    "total_energy_costs = [0]*num_jobs\n",
    "total_costs = 0\n",
    "for i in range(num_machines):\n",
    "    total_energy_costs[i] += machine_mat[i][2]+running_energy_costs[i]+waiting_energy_costs[i]\n",
    "    total_costs+=machine_mat[i][2]+running_energy_costs[i]+waiting_energy_costs[i]\n",
    "print(\"Total Energy Costs :\",total_energy_costs)\n",
    "penalty_costs = 0\n",
    "for i in range(num_jobs):\n",
    "    penalty_costs += max(0,prev_finish_time[i]-due_dates[i])*penalty_cost[i]\n",
    "total_costs += penalty_costs\n",
    "print(\"Total Penalty Costs :\",penalty_costs)\n",
    "print(\"Total Costs :\",total_costs)"
   ]
  },
  {
   "cell_type": "markdown",
   "id": "27526c0b",
   "metadata": {},
   "source": [
    "# Waiting + Warmup Energy Costs"
   ]
  },
  {
   "cell_type": "code",
   "execution_count": 67,
   "id": "2ccb0795",
   "metadata": {},
   "outputs": [],
   "source": [
    "num_machines = 2\n",
    "num_jobs = 3\n",
    "num_operations = 1\n",
    "jom_mat = np.array([[[0,8]],[[0,2]],[[0,10]]])\n",
    "machine_mat = np.array([[1,6,5,3],[1,4,3,14]])\n",
    "minimization_criteria = 1\n",
    "due_dates = np.array([26,26,17])\n",
    "arrival_dates = [5,1,5]\n",
    "warmup_times = [2,1]\n",
    "penalty_cost = [1,1,1]\n",
    "jom_mat = np.array(jom_mat)\n",
    "machine_mat = np.array(machine_mat)\n",
    "due_dates = np.array(due_dates)\n",
    "arrival_dates = np.array(arrival_dates)         "
   ]
  },
  {
   "cell_type": "code",
   "execution_count": 68,
   "id": "8dc6a9d8",
   "metadata": {},
   "outputs": [],
   "source": [
    "jom_mat = np.array([[[0,8]],[[0,2]],[[0,10]]])\n",
    "\n",
    "sorted_indices = np.argsort(arrival_dates)\n",
    "jom_mat = jom_mat[sorted_indices]\n",
    "arrival_dates = sorted(arrival_dates)\n"
   ]
  },
  {
   "cell_type": "code",
   "execution_count": 69,
   "id": "7c46772e",
   "metadata": {},
   "outputs": [],
   "source": [
    "           \n",
    "idle_times = [0]*(num_machines)\n",
    "running_energy_costs = [0]*num_machines\n",
    "waiting_energy_costs = [0]*num_machines\n",
    "warmup_energy_costs = [0]*num_machines\n",
    "total_energy_costs = [0]*num_machines"
   ]
  },
  {
   "cell_type": "code",
   "execution_count": 70,
   "id": "8e096ea6",
   "metadata": {},
   "outputs": [
    {
     "name": "stdout",
     "output_type": "stream",
     "text": [
      "1 1\n",
      "5 5\n",
      "5 5\n"
     ]
    }
   ],
   "source": [
    "\n",
    "prev_finish_time = [0]*num_jobs\n",
    "scheduled_jobs = []\n",
    "machine_free_time = [0]*num_machines\n",
    "    \n",
    "for i in range(num_jobs):\n",
    "    machine_idx = 0\n",
    "    least_time = float('inf')\n",
    "    machine_run_cost = float('inf')\n",
    "    for j in range(num_machines):\n",
    "        if (machine_free_time[j]<=arrival_dates[i] and least_time!=arrival_dates[i]):\n",
    "            machine_idx=j\n",
    "            least_time = arrival_dates[i]\n",
    "            machine_run_cost = machine_mat[j][2]+ machine_mat[j][3]\n",
    "        elif (machine_free_time[j]<=arrival_dates[i] and machine_mat[j][2]+ machine_mat[j][3]<machine_run_cost):\n",
    "            machine_idx=j\n",
    "            least_time = arrival_dates[i]\n",
    "            machine_run_cost = machine_mat[j][2]+ machine_mat[j][3]\n",
    "        elif (machine_free_time[j]<least_time and machine_free_time[j]>arrival_dates[i]):\n",
    "            machine_idx=j\n",
    "            least_time = machine_free_time[j]\n",
    "            machine_run_cost = machine_mat[j][2]+ machine_mat[j][3]\n",
    "        elif (machine_free_time[j]==least_time and machine_mat[j][2]+ machine_mat[j][3]<machine_run_cost and machine_free_time[j]>arrival_dates[i]):\n",
    "            machine_idx=j\n",
    "            least_time = machine_free_time[j]\n",
    "            machine_run_cost = machine_mat[j][2]+ machine_mat[j][3]\n",
    "    \n",
    "    job_start_time = max(arrival_dates[i],machine_free_time[machine_idx])\n",
    "    print(job_start_time,arrival_dates[i])\n",
    "    job_end_time = job_start_time + warmup_times[machine_idx] + jom_mat[i][0][1]\n",
    "    waiting_energy_costs[machine_idx] += max(0,job_start_time - machine_free_time[machine_idx])*machine_mat[machine_idx][2]\n",
    "    warmup_energy_costs[machine_idx] += warmup_times[machine_idx]*machine_mat[machine_idx][3]\n",
    "    running_energy_costs[machine_idx] += jom_mat[i][0][1]*machine_mat[machine_idx][1]\n",
    "    total_energy_costs[machine_idx] =  waiting_energy_costs[machine_idx] + warmup_energy_costs[machine_idx] + running_energy_costs[machine_idx]\n",
    "    idle_times[machine_idx] += max(0,job_start_time - machine_free_time[machine_idx])\n",
    "    machine_free_time[machine_idx] = job_end_time\n",
    "    scheduled_jobs.append([i,0,job_start_time+warmup_times[machine_idx],job_end_time,machine_idx+1])\n",
    "    "
   ]
  },
  {
   "cell_type": "code",
   "execution_count": 71,
   "id": "39ec0dc0",
   "metadata": {},
   "outputs": [
    {
     "data": {
      "text/plain": [
       "[[0, 0, 3, 5, 1], [1, 0, 7, 15, 1], [2, 0, 6, 16, 2]]"
      ]
     },
     "execution_count": 71,
     "metadata": {},
     "output_type": "execute_result"
    }
   ],
   "source": [
    "scheduled_jobs"
   ]
  },
  {
   "cell_type": "code",
   "execution_count": 72,
   "id": "26af40a2",
   "metadata": {},
   "outputs": [
    {
     "data": {
      "image/png": "[encoded data removed]",
      "text/plain": [
       "<Figure size 1000x600 with 1 Axes>"
      ]
     },
     "metadata": {},
     "output_type": "display_data"
    }
   ],
   "source": [
    "import matplotlib.pyplot as plt\n",
    "\n",
    "max_end_time = max(job[3] for job in scheduled_jobs)\n",
    "\n",
    "colors = plt.cm.tab10(np.linspace(0, 1, num_jobs*num_operations))\n",
    "\n",
    "plt.figure(figsize=(10, 6))\n",
    "\n",
    "for i, job in enumerate(scheduled_jobs):\n",
    "    job_index = job[0]\n",
    "    operation_index = job[1]\n",
    "    machine_index = jom_mat[job_index][operation_index][0]\n",
    "    color = colors[i]\n",
    "    plt.barh(job_index, job[3] - job[2], left=job[2], color=color, alpha=0.6)\n",
    "    plt.text(job[2] + (job[3] - job[2])/2, job[0], job[4], ha='center', va='center')\n",
    "\n",
    "plt.xlabel('Time')\n",
    "plt.ylabel('jobs')\n",
    "plt.title('Gantt Chart for Scheduled Tasks')\n",
    "plt.yticks(range(num_jobs), [f'Job {i+1}' for i in range(num_jobs)])\n",
    "plt.xticks(range(0, max_end_time+5, 2))\n",
    "plt.show()"
   ]
  },
  {
   "cell_type": "code",
   "execution_count": 73,
   "id": "995b5395",
   "metadata": {},
   "outputs": [
    {
     "name": "stdout",
     "output_type": "stream",
     "text": [
      "Idle times : [1, 5]\n",
      "running_energy_costs : [60, 40]\n",
      "waiting_energy_costs : [5, 15]\n",
      "Total Energy Costs : [70, 58, 0]\n",
      "Total Penalty Costs : 0\n",
      "Total Costs : 128\n"
     ]
    }
   ],
   "source": [
    "print(\"Idle times :\",idle_times)\n",
    "print(\"running_energy_costs :\",running_energy_costs)\n",
    "print(\"waiting_energy_costs :\",waiting_energy_costs)\n",
    "total_energy_costs = [0]*num_jobs\n",
    "total_costs = 0\n",
    "for i in range(num_machines):\n",
    "    total_energy_costs[i] += machine_mat[i][2]+running_energy_costs[i]+waiting_energy_costs[i]\n",
    "    total_costs+=machine_mat[i][2]+running_energy_costs[i]+waiting_energy_costs[i]\n",
    "print(\"Total Energy Costs :\",total_energy_costs)\n",
    "penalty_costs = 0\n",
    "for i in range(num_jobs):\n",
    "    penalty_costs += max(0,prev_finish_time[i]-due_dates[i])*penalty_cost[i]\n",
    "total_costs += penalty_costs\n",
    "print(\"Total Penalty Costs :\",penalty_costs)\n",
    "print(\"Total Costs :\",total_costs)"
   ]
  },
  {
   "cell_type": "code",
   "execution_count": null,
   "id": "e0ca3637",
   "metadata": {},
   "outputs": [],
   "source": []
  }
 ],
 "metadata": {
  "kernelspec": {
   "display_name": "Python 3 (ipykernel)",
   "language": "python",
   "name": "python3"
  },
  "language_info": {
   "codemirror_mode": {
    "name": "ipython",
    "version": 3
   },
   "file_extension": ".py",
   "mimetype": "text/x-python",
   "name": "python",
   "nbconvert_exporter": "python",
   "pygments_lexer": "ipython3",
   "version": "3.10.5"
  }
 },
 "nbformat": 4,
 "nbformat_minor": 5
}
